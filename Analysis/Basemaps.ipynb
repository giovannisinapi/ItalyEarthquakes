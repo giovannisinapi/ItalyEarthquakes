{
 "cells": [
  {
   "cell_type": "markdown",
   "metadata": {},
   "source": [
    "# Visualization of Italy's Eartquakes (August-November 2016)"
   ]
  },
  {
   "cell_type": "code",
   "execution_count": null,
   "metadata": {
    "collapsed": false
   },
   "outputs": [],
   "source": [
    "    import wget\n",
    "    import os\n",
    "    import zipfile\n",
    "    \n",
    "    import urllib3\n",
    "    import certifi\n",
    "    import sys\n",
    "    import glob\n",
    "    \n",
    "    import numpy as np\n",
    "    import pandas as pd\n",
    "    \n",
    "    import matplotlib.pyplot as plt\n",
    "    \n",
    "    %matplotlib inline\n",
    "\n",
    "\n",
    "    import plotly.offline as py\n",
    "    import plotly.graph_objs as go\n",
    "    import plotly.tools as tls\n",
    "    import seaborn as sns\n",
    "    \n",
    "    import plotly\n",
    "    plotly.offline.init_notebook_mode()"
   ]
  },
  {
   "cell_type": "code",
   "execution_count": null,
   "metadata": {
    "collapsed": false
   },
   "outputs": [],
   "source": [
    "df = pd.read_csv(\"italy_earthquakes_from_2016-08-24_to_2016-11-30.csv\").set_index('Time')\n",
    "df.index = pd.to_datetime(df.index)\n",
    "df.head()"
   ]
  },
  {
   "cell_type": "markdown",
   "metadata": {},
   "source": [
    "#### Eartquake occurences using Latitude and Longitude coordinates "
   ]
  },
  {
   "cell_type": "code",
   "execution_count": null,
   "metadata": {
    "collapsed": false
   },
   "outputs": [],
   "source": [
    "latitudes = df.Latitude\n",
    "\n",
    "longitudes = df.Longitude\n",
    "\n",
    "\n",
    "# Generate scatter plot of locations of earthquakes on a 2D grid\n",
    "# At each earthquake location (longitude[i], latitude[i]) put a red '+' sign\n",
    "\n",
    "plt.scatter(longitudes, latitudes, c='r', marker='+')\n",
    "\n",
    "\n",
    "# Label Axes\n",
    "plt.xlabel('Longitude')\n",
    "plt.ylabel('Latitude')\n",
    "plt.title('Earthquake Occurrences')\n",
    "plt.show()\n",
    "\n",
    "# Clear before the next set of graphs\n",
    "plt.clf()"
   ]
  },
  {
   "cell_type": "code",
   "execution_count": null,
   "metadata": {
    "collapsed": true
   },
   "outputs": [],
   "source": []
  },
  {
   "cell_type": "code",
   "execution_count": null,
   "metadata": {
    "collapsed": true
   },
   "outputs": [],
   "source": []
  },
  {
   "cell_type": "markdown",
   "metadata": {
    "collapsed": true
   },
   "source": [
    "### Basemaps for Italy "
   ]
  },
  {
   "cell_type": "code",
   "execution_count": null,
   "metadata": {
    "collapsed": false
   },
   "outputs": [],
   "source": [
    "from mpl_toolkits.basemap import Basemap\n",
    "import numpy as np\n",
    "import matplotlib.pyplot as plt\n",
    "%matplotlib inline\n",
    "earth = np.genfromtxt(\"italy_earthquakes_from_2016-08-24_to_2016-11-30.csv\",\n",
    "                         delimiter=',', \n",
    "                         dtype=[('Latitude', np.float32), ('Longitude', np.float32)], \n",
    "                         usecols=(1, 2))\n",
    "\n",
    "fig = plt.figure()"
   ]
  },
  {
   "cell_type": "code",
   "execution_count": null,
   "metadata": {
    "collapsed": false
   },
   "outputs": [],
   "source": [
    "themap = Basemap(projection='merc', \n",
    "              llcrnrlon = 6,              # lower-left corner longitude\n",
    "              llcrnrlat = 36,               # lower-left corner latitude\n",
    "              urcrnrlon = 19,               # upper-right corner longitude\n",
    "              urcrnrlat = 49,               # upper-right corner latitude\n",
    "              resolution = 'h',\n",
    "              area_thresh = 0.1,\n",
    "              )"
   ]
  },
  {
   "cell_type": "code",
   "execution_count": null,
   "metadata": {
    "collapsed": false
   },
   "outputs": [],
   "source": [
    "themap.drawcoastlines()\n",
    "themap.drawcountries()\n",
    "themap.fillcontinents(color = 'gray')\n",
    "themap.drawmapboundary()\n",
    "themap.drawmeridians(np.arange(0, 360, 30))\n",
    "themap.drawparallels(np.arange(-90, 90, 30))\n",
    "x, y = themap(earth['Longitude'], earth['Latitude'])\n",
    "themap.plot(x, y, \n",
    "            'o',                    # marker shape\n",
    "            color='red',         # marker colour\n",
    "            markersize=4,  \n",
    "           \n",
    "            )\n",
    "\n",
    "plt.show()\n",
    " "
   ]
  },
  {
   "cell_type": "code",
   "execution_count": null,
   "metadata": {
    "collapsed": false
   },
   "outputs": [],
   "source": [
    "themap.drawcoastlines()\n",
    "themap.drawcountries()\n",
    "themap.fillcontinents(color = 'gainsboro')\n",
    "themap.drawmapboundary(fill_color='steelblue')\n",
    "x, y = themap(earth['Longitude'], earth['Latitude'])\n",
    "themap.plot(x, y, \n",
    "            'o',                    # marker shape\n",
    "            color='Indigo',         # marker colour\n",
    "            markersize=4,  \n",
    "           \n",
    "            )\n",
    "\n",
    "plt.show()"
   ]
  },
  {
   "cell_type": "markdown",
   "metadata": {},
   "source": [
    "#### The eartquakes occurred mainly in the center of Italy "
   ]
  },
  {
   "cell_type": "code",
   "execution_count": null,
   "metadata": {
    "collapsed": false
   },
   "outputs": [],
   "source": [
    "import csv\n",
    "\n",
    "# Open the earthquake data file.\n",
    "filename = 'italy_earthquakes_from_2016-08-24_to_2016-11-30.csv'\n",
    "\n",
    "# Create empty lists for the data we are interested in.\n",
    "lats, lons = [], []\n",
    "magnitudes = []\n",
    "timestrings = []\n",
    "\n",
    "# Read through the entire file, skip the first line,\n",
    "#  and pull out just the lats and lons.\n",
    "with open(filename) as f:\n",
    "    # Create a csv reader object.\n",
    "    reader = csv.reader(f)\n",
    "    \n",
    "    # Ignore the header row.\n",
    "    next(reader)\n",
    "    \n",
    "    # Store the latitudes and longitudes in the appropriate lists.\n",
    "    for row in reader:\n",
    "        lats.append(float(row[1]))\n",
    "        lons.append(float(row[2]))\n",
    "        magnitudes.append(float(row[4]))\n",
    "        timestrings.append(row[0])\n",
    "        \n",
    "# --- Build Map ---\n",
    "from mpl_toolkits.basemap import Basemap\n",
    "import matplotlib.pyplot as plt\n",
    "import numpy as np\n",
    "\n",
    "def get_marker_color(magnitude):\n",
    "    # Returns green for small earthquakes, yellow for moderate\n",
    "    #  earthquakes, and red for significant earthquakes.\n",
    "    if magnitude < 3.0:\n",
    "        return ('go')\n",
    "    elif magnitude < 5.0:\n",
    "        return ('yo')\n",
    "    else:\n",
    "        return ('ro')\n",
    " \n",
    "eq_map = Basemap(projection='merc', \n",
    "              llcrnrlon = 6,                # lower-left corner longitude\n",
    "              llcrnrlat = 37,               # lower-left corner latitude\n",
    "              urcrnrlon = 19,               # upper-right corner longitude\n",
    "              urcrnrlat = 49,               # upper-right corner latitude\n",
    "              resolution = 'h',\n",
    "              area_thresh = 0.1,\n",
    "              )\n",
    "eq_map.drawcoastlines()\n",
    "eq_map.drawcountries()\n",
    "eq_map.fillcontinents(color = 'gray')\n",
    "eq_map.drawmapboundary()\n",
    "eq_map.drawmeridians(np.arange(0, 360, 30))\n",
    "eq_map.drawparallels(np.arange(-90, 90, 30))\n",
    " \n",
    "min_marker_size = 2.5\n",
    "for lon, lat, mag in zip(lons, lats, magnitudes):\n",
    "    x,y = eq_map(lon, lat)\n",
    "    msize = mag * min_marker_size\n",
    "    marker_string = get_marker_color(mag)\n",
    "    eq_map.plot(x, y, marker_string, markersize=msize)\n",
    "\n",
    "title_string = \"Earthquakes of Magnitude 1.0 or Greater in Italy\\n\"\n",
    "title_string += \"%s through %s\" % (timestrings[0], timestrings[-1])\n",
    "plt.title(title_string)\n",
    "plt.show()"
   ]
  },
  {
   "cell_type": "code",
   "execution_count": null,
   "metadata": {
    "collapsed": false
   },
   "outputs": [],
   "source": [
    "import csv\n",
    "\n",
    "# Open the earthquake data file.\n",
    "filename = 'italy_earthquakes_from_2016-08-24_to_2016-11-30.csv'\n",
    "\n",
    "# Create empty lists for the data we are interested in.\n",
    "lats, lons = [], []\n",
    "magnitudes = []\n",
    "timestrings = []\n",
    "\n",
    "# Read through the entire file, skip the first line,\n",
    "#  and pull out just the lats and lons.\n",
    "with open(filename) as f:\n",
    "    # Create a csv reader object.\n",
    "    reader = csv.reader(f)\n",
    "    \n",
    "    # Ignore the header row.\n",
    "    next(reader)\n",
    "    \n",
    "    # Store the latitudes and longitudes in the appropriate lists.\n",
    "    for row in reader:\n",
    "        lats.append(float(row[1]))\n",
    "        lons.append(float(row[2]))\n",
    "        magnitudes.append(float(row[4]))\n",
    "        timestrings.append(row[0])\n",
    "        \n",
    "# --- Build Map ---\n",
    "from mpl_toolkits.basemap import Basemap\n",
    "import matplotlib.pyplot as plt\n",
    "import numpy as np\n",
    "\n",
    "def get_marker_color(magnitude):\n",
    "    # Returns green for small earthquakes, yellow for moderate\n",
    "    #  earthquakes, and red for significant earthquakes.\n",
    "    if magnitude < 3.0:\n",
    "        return ('go')\n",
    "    elif magnitude < 5.0:\n",
    "        return ('yo')\n",
    "    else:\n",
    "        return ('ro')\n",
    " \n",
    "eq_map = Basemap(projection='merc', \n",
    "              llcrnrlon = 12.5,                # lower-left corner longitude\n",
    "              llcrnrlat = 41.5,               # lower-left corner latitude\n",
    "              urcrnrlon = 13.9,               # upper-right corner longitude\n",
    "              urcrnrlat = 44.5,               # upper-right corner latitude\n",
    "              resolution = 'h',\n",
    "              area_thresh = 100.0,\n",
    "              )\n",
    "eq_map.drawcoastlines()\n",
    "eq_map.drawcountries()\n",
    "eq_map.fillcontinents(color = 'gray')\n",
    "eq_map.drawmapboundary()\n",
    "eq_map.drawmeridians(np.arange(0, 360, 30))\n",
    "eq_map.drawparallels(np.arange(-90, 90, 30))\n",
    " \n",
    "min_marker_size = 2.5\n",
    "for lon, lat, mag in zip(lons, lats, magnitudes):\n",
    "    x,y = eq_map(lon, lat)\n",
    "    msize = mag * min_marker_size\n",
    "    marker_string = get_marker_color(mag)\n",
    "    eq_map.plot(x, y, marker_string, markersize=msize)\n",
    "\n",
    "title_string = \"Earthquakes of Magnitude 1.0 or Greater in Italy\\n\"\n",
    "title_string += \"%s through %s\" % (timestrings[0], timestrings[-1])\n",
    "plt.title(title_string)\n",
    "plt.show()"
   ]
  },
  {
   "cell_type": "code",
   "execution_count": null,
   "metadata": {
    "collapsed": true
   },
   "outputs": [],
   "source": []
  },
  {
   "cell_type": "code",
   "execution_count": null,
   "metadata": {
    "collapsed": true
   },
   "outputs": [],
   "source": []
  },
  {
   "cell_type": "code",
   "execution_count": null,
   "metadata": {
    "collapsed": true
   },
   "outputs": [],
   "source": []
  }
 ],
 "metadata": {
  "anaconda-cloud": {},
  "kernelspec": {
   "display_name": "Python [default]",
   "language": "python",
   "name": "python3"
  },
  "language_info": {
   "codemirror_mode": {
    "name": "ipython",
    "version": 3
   },
   "file_extension": ".py",
   "mimetype": "text/x-python",
   "name": "python",
   "nbconvert_exporter": "python",
   "pygments_lexer": "ipython3",
   "version": "3.5.2"
  }
 },
 "nbformat": 4,
 "nbformat_minor": 1
}
